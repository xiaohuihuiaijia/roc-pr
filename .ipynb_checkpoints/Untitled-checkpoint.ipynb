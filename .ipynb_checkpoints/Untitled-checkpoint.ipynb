{
 "cells": [
  {
   "cell_type": "code",
   "execution_count": 5,
   "id": "a08392a1",
   "metadata": {},
   "outputs": [],
   "source": [
    "import numpy as np\n",
    "import matplotlib.pyplot as plt\n",
    "from scipy import interp\n",
    "from sklearn import datasets\n",
    "from sklearn.model_selection import train_test_split\n",
    "from sklearn.preprocessing import label_binarize\n",
    "from sklearn.metrics import auc\n",
    "from sklearn.metrics import roc_curve\n",
    "from sklearn.metrics import roc_auc_score"
   ]
  },
  {
   "cell_type": "code",
   "execution_count": null,
   "id": "5930c338",
   "metadata": {},
   "outputs": [],
   "source": []
  },
  {
   "cell_type": "code",
   "execution_count": 6,
   "id": "836629d8",
   "metadata": {},
   "outputs": [],
   "source": [
    "def load_data():\n",
    "    # Import some data to play with\n",
    "    iris = datasets.load_iris()\n",
    "    X = iris.data\n",
    "    y = iris.target\n",
    "\n",
    "    # shuffle and split training and test sets\n",
    "    X_train, X_test, y_train, y_test = train_test_split(X, y, test_size=.5)\n",
    "\n",
    "    return X_train, X_test, y_train, y_test"
   ]
  },
  {
   "cell_type": "code",
   "execution_count": 7,
   "id": "8799d2aa",
   "metadata": {},
   "outputs": [],
   "source": [
    "if __name__ == '__main__':\n",
    "    X_train, X_test, y_train, y_test = load_data()"
   ]
  },
  {
   "cell_type": "code",
   "execution_count": 8,
   "id": "9e416b4d",
   "metadata": {},
   "outputs": [
    {
     "data": {
      "text/plain": [
       "array([2, 0, 0, 0, 0, 2, 2, 2, 0, 0, 2, 0, 1, 0, 2, 1, 1, 0, 2, 1, 2, 2,\n",
       "       2, 2, 2, 2, 1, 1, 1, 1, 0, 1, 1, 2, 1, 0, 1, 0, 1, 1, 0, 1, 2, 1,\n",
       "       2, 1, 0, 0, 0, 1, 2, 1, 1, 1, 0, 2, 1, 0, 2, 1, 0, 2, 0, 2, 0, 0,\n",
       "       0, 2, 1, 1, 2, 2, 2, 0, 1])"
      ]
     },
     "execution_count": 8,
     "metadata": {},
     "output_type": "execute_result"
    }
   ],
   "source": [
    "y_train"
   ]
  },
  {
   "cell_type": "code",
   "execution_count": 9,
   "id": "25e81573",
   "metadata": {},
   "outputs": [
    {
     "data": {
      "text/plain": [
       "array([0, 1, 2, 2, 1, 0, 2, 2, 1, 0, 2, 1, 1, 2, 0, 1, 1, 1, 2, 1, 2, 2,\n",
       "       1, 0, 1, 1, 2, 2, 1, 1, 0, 2, 0, 0, 2, 1, 2, 2, 0, 0, 0, 2, 0, 0,\n",
       "       1, 0, 2, 2, 0, 0, 1, 2, 1, 0, 0, 0, 0, 1, 0, 0, 1, 0, 2, 1, 0, 0,\n",
       "       0, 2, 1, 2, 2, 2, 2, 1, 1])"
      ]
     },
     "execution_count": 9,
     "metadata": {},
     "output_type": "execute_result"
    }
   ],
   "source": [
    "y_test"
   ]
  },
  {
   "cell_type": "code",
   "execution_count": 10,
   "id": "a459450e",
   "metadata": {},
   "outputs": [],
   "source": [
    "y_train = label_binarize(y_train, classes=[0, 1, 2]) #首先对真是的label进行onehot编码"
   ]
  },
  {
   "cell_type": "code",
   "execution_count": 15,
   "id": "c5feff17",
   "metadata": {},
   "outputs": [],
   "source": [
    "y_train\n",
    "import pandas as pd\n",
    "y_train = pd.DataFrame(y_train)"
   ]
  },
  {
   "cell_type": "code",
   "execution_count": 18,
   "id": "a41499b0",
   "metadata": {},
   "outputs": [
    {
     "data": {
      "text/html": [
       "<div>\n",
       "<style scoped>\n",
       "    .dataframe tbody tr th:only-of-type {\n",
       "        vertical-align: middle;\n",
       "    }\n",
       "\n",
       "    .dataframe tbody tr th {\n",
       "        vertical-align: top;\n",
       "    }\n",
       "\n",
       "    .dataframe thead th {\n",
       "        text-align: right;\n",
       "    }\n",
       "</style>\n",
       "<table border=\"1\" class=\"dataframe\">\n",
       "  <thead>\n",
       "    <tr style=\"text-align: right;\">\n",
       "      <th></th>\n",
       "      <th>0</th>\n",
       "      <th>1</th>\n",
       "      <th>2</th>\n",
       "    </tr>\n",
       "  </thead>\n",
       "  <tbody>\n",
       "    <tr>\n",
       "      <th>0</th>\n",
       "      <td>0</td>\n",
       "      <td>0</td>\n",
       "      <td>1</td>\n",
       "    </tr>\n",
       "    <tr>\n",
       "      <th>1</th>\n",
       "      <td>1</td>\n",
       "      <td>0</td>\n",
       "      <td>0</td>\n",
       "    </tr>\n",
       "    <tr>\n",
       "      <th>2</th>\n",
       "      <td>1</td>\n",
       "      <td>0</td>\n",
       "      <td>0</td>\n",
       "    </tr>\n",
       "    <tr>\n",
       "      <th>3</th>\n",
       "      <td>1</td>\n",
       "      <td>0</td>\n",
       "      <td>0</td>\n",
       "    </tr>\n",
       "    <tr>\n",
       "      <th>4</th>\n",
       "      <td>1</td>\n",
       "      <td>0</td>\n",
       "      <td>0</td>\n",
       "    </tr>\n",
       "  </tbody>\n",
       "</table>\n",
       "</div>"
      ],
      "text/plain": [
       "   0  1  2\n",
       "0  0  0  1\n",
       "1  1  0  0\n",
       "2  1  0  0\n",
       "3  1  0  0\n",
       "4  1  0  0"
      ]
     },
     "execution_count": 18,
     "metadata": {},
     "output_type": "execute_result"
    }
   ],
   "source": [
    "y_train[:5]"
   ]
  },
  {
   "cell_type": "code",
   "execution_count": 19,
   "id": "96cf6298",
   "metadata": {},
   "outputs": [
    {
     "data": {
      "text/plain": [
       "(75, 3)"
      ]
     },
     "execution_count": 19,
     "metadata": {},
     "output_type": "execute_result"
    }
   ],
   "source": [
    "y_train.shape"
   ]
  },
  {
   "cell_type": "code",
   "execution_count": 20,
   "id": "3cd1c1a0",
   "metadata": {},
   "outputs": [
    {
     "data": {
      "text/plain": [
       "225"
      ]
     },
     "execution_count": 20,
     "metadata": {},
     "output_type": "execute_result"
    }
   ],
   "source": [
    "75*3"
   ]
  },
  {
   "cell_type": "code",
   "execution_count": 94,
   "id": "628d6ed8",
   "metadata": {},
   "outputs": [],
   "source": [
    "y_pred = np.random.uniform(0,1,size=(75,3))"
   ]
  },
  {
   "cell_type": "code",
   "execution_count": 95,
   "id": "d605b7f2",
   "metadata": {},
   "outputs": [
    {
     "data": {
      "text/html": [
       "<div>\n",
       "<style scoped>\n",
       "    .dataframe tbody tr th:only-of-type {\n",
       "        vertical-align: middle;\n",
       "    }\n",
       "\n",
       "    .dataframe tbody tr th {\n",
       "        vertical-align: top;\n",
       "    }\n",
       "\n",
       "    .dataframe thead th {\n",
       "        text-align: right;\n",
       "    }\n",
       "</style>\n",
       "<table border=\"1\" class=\"dataframe\">\n",
       "  <thead>\n",
       "    <tr style=\"text-align: right;\">\n",
       "      <th></th>\n",
       "      <th>0</th>\n",
       "      <th>1</th>\n",
       "      <th>2</th>\n",
       "    </tr>\n",
       "  </thead>\n",
       "  <tbody>\n",
       "    <tr>\n",
       "      <th>0</th>\n",
       "      <td>0.497551</td>\n",
       "      <td>0.449779</td>\n",
       "      <td>0.899468</td>\n",
       "    </tr>\n",
       "    <tr>\n",
       "      <th>1</th>\n",
       "      <td>0.177521</td>\n",
       "      <td>0.966981</td>\n",
       "      <td>0.855467</td>\n",
       "    </tr>\n",
       "    <tr>\n",
       "      <th>2</th>\n",
       "      <td>0.651352</td>\n",
       "      <td>0.659658</td>\n",
       "      <td>0.113886</td>\n",
       "    </tr>\n",
       "    <tr>\n",
       "      <th>3</th>\n",
       "      <td>0.151705</td>\n",
       "      <td>0.658108</td>\n",
       "      <td>0.929616</td>\n",
       "    </tr>\n",
       "    <tr>\n",
       "      <th>4</th>\n",
       "      <td>0.847887</td>\n",
       "      <td>0.255122</td>\n",
       "      <td>0.156099</td>\n",
       "    </tr>\n",
       "  </tbody>\n",
       "</table>\n",
       "</div>"
      ],
      "text/plain": [
       "          0         1         2\n",
       "0  0.497551  0.449779  0.899468\n",
       "1  0.177521  0.966981  0.855467\n",
       "2  0.651352  0.659658  0.113886\n",
       "3  0.151705  0.658108  0.929616\n",
       "4  0.847887  0.255122  0.156099"
      ]
     },
     "execution_count": 95,
     "metadata": {},
     "output_type": "execute_result"
    }
   ],
   "source": [
    "y_pred = pd.DataFrame(y_pred)\n",
    "y_pred[:5]"
   ]
  },
  {
   "cell_type": "code",
   "execution_count": 96,
   "id": "4dca8a08",
   "metadata": {},
   "outputs": [
    {
     "data": {
      "text/plain": [
       "75"
      ]
     },
     "execution_count": 96,
     "metadata": {},
     "output_type": "execute_result"
    }
   ],
   "source": [
    "y_pred.shape[0]"
   ]
  },
  {
   "cell_type": "code",
   "execution_count": 97,
   "id": "9aacd9da",
   "metadata": {},
   "outputs": [
    {
     "data": {
      "text/plain": [
       "[0, 1, 2]"
      ]
     },
     "execution_count": 97,
     "metadata": {},
     "output_type": "execute_result"
    }
   ],
   "source": [
    "y_pred.columns.values.tolist()"
   ]
  },
  {
   "cell_type": "code",
   "execution_count": 98,
   "id": "b793273c",
   "metadata": {},
   "outputs": [],
   "source": [
    "from sklearn.metrics import confusion_matrix as CM, precision_score as P, recall_score as R\n",
    "from sklearn.metrics import roc_auc_score as AUC\n",
    "\n",
    "def Recall_fpr(threshold):\n",
    "    recall = []\n",
    "    FPR = []\n",
    "    precision = []\n",
    "    auc = []\n",
    "    y_predbak = y_pred.copy()\n",
    "    for j in range(y_pred.shape[1]):\n",
    "        for i in range(y_pred.shape[0]):\n",
    "            if y_predbak.iloc[i,j] >threshold:\n",
    "                y_predbak.loc[i,f'pred{j}'] = 1\n",
    "            else:\n",
    "                y_predbak.loc[i,f'pred{j}'] = 0\n",
    "                \n",
    "        y_predbak['y_true'] = y_train.iloc[:,j]\n",
    "        y_preds = y_predbak.sort_values(by=j,ascending=False)\n",
    "        \n",
    "        cm = CM( y_preds.loc[:,'y_true'],y_preds.loc[:,f'pred{j}'],labels=[1,0])\n",
    "    # fpr\n",
    "        fprr = cm[1,0]/cm[1,:].sum()\n",
    "    #recall\n",
    "        recalll = cm[0,0]/cm[0,:].sum()\n",
    "    #precision\n",
    "        precisionn = P(y_preds.loc[:,'y_true'],y_preds.loc[:,f'pred{j}'])\n",
    "    #auc \n",
    "        area = AUC( y_preds.loc[:,'y_true'],y_preds.loc[:,f'pred{j}'])\n",
    "    \n",
    "        recall.append(recalll)\n",
    "        FPR.append(fprr)\n",
    "        precision.append(precisionn)\n",
    "        auc.append(area)\n",
    "    print( recall,FPR,precision,auc)\n",
    "    return recall,FPR,precision,auc\n",
    "\n",
    "\n",
    "\n",
    "        \n",
    "        \n",
    "\n",
    "    \n",
    "    \n",
    "    \n",
    "    "
   ]
  },
  {
   "cell_type": "code",
   "execution_count": 99,
   "id": "cb373520",
   "metadata": {},
   "outputs": [
    {
     "name": "stdout",
     "output_type": "stream",
     "text": [
      "[0.5833333333333334, 0.5, 0.48] [0.49019607843137253, 0.5918367346938775, 0.56] [0.358974358974359, 0.30952380952380953, 0.3] [0.5465686274509804, 0.45408163265306123, 0.45999999999999996]\n"
     ]
    }
   ],
   "source": [
    "recall11,FPR11,precision11,auc11 = Recall_fpr(0.5)"
   ]
  },
  {
   "cell_type": "code",
   "execution_count": 42,
   "id": "84ba196c",
   "metadata": {},
   "outputs": [
    {
     "data": {
      "text/plain": [
       "[0.5, 0.5769230769230769, 0.52]"
      ]
     },
     "execution_count": 42,
     "metadata": {},
     "output_type": "execute_result"
    }
   ],
   "source": [
    "recall"
   ]
  },
  {
   "cell_type": "code",
   "execution_count": 43,
   "id": "217a92f6",
   "metadata": {},
   "outputs": [
    {
     "data": {
      "text/plain": [
       "[0.5490196078431373, 0.5714285714285714, 0.34]"
      ]
     },
     "execution_count": 43,
     "metadata": {},
     "output_type": "execute_result"
    }
   ],
   "source": [
    "FPR"
   ]
  },
  {
   "cell_type": "code",
   "execution_count": 102,
   "id": "3ede9792",
   "metadata": {},
   "outputs": [],
   "source": [
    "predthreshold = np.linspace(0,1,num=20,endpoint=False)"
   ]
  },
  {
   "cell_type": "code",
   "execution_count": 103,
   "id": "a43b4051",
   "metadata": {},
   "outputs": [
    {
     "data": {
      "text/plain": [
       "array([0.  , 0.05, 0.1 , 0.15, 0.2 , 0.25, 0.3 , 0.35, 0.4 , 0.45, 0.5 ,\n",
       "       0.55, 0.6 , 0.65, 0.7 , 0.75, 0.8 , 0.85, 0.9 , 0.95])"
      ]
     },
     "execution_count": 103,
     "metadata": {},
     "output_type": "execute_result"
    }
   ],
   "source": [
    "predthreshold"
   ]
  },
  {
   "cell_type": "code",
   "execution_count": 104,
   "id": "c897b67a",
   "metadata": {},
   "outputs": [
    {
     "name": "stdout",
     "output_type": "stream",
     "text": [
      "[1.0, 1.0, 1.0] [1.0, 1.0, 1.0] [0.32, 0.3466666666666667, 0.3333333333333333] [0.5, 0.5, 0.5]\n",
      "[0.875, 0.9230769230769231, 0.96] [0.9215686274509803, 1.0, 1.0] [0.3088235294117647, 0.3287671232876712, 0.32432432432432434] [0.4767156862745098, 0.46153846153846156, 0.48]\n",
      "[0.8333333333333334, 0.8076923076923077, 0.92] [0.8823529411764706, 0.9591836734693877, 0.96] [0.3076923076923077, 0.3088235294117647, 0.323943661971831] [0.47549019607843146, 0.42425431711146, 0.48000000000000004]\n",
      "[0.8333333333333334, 0.7692307692307693, 0.88] [0.8431372549019608, 0.8979591836734694, 0.94] [0.31746031746031744, 0.3125, 0.3188405797101449] [0.4950980392156863, 0.43563579277864994, 0.47000000000000003]\n",
      "[0.7083333333333334, 0.7307692307692307, 0.88] [0.7843137254901961, 0.8775510204081632, 0.86] [0.2982456140350877, 0.3064516129032258, 0.3384615384615385] [0.46200980392156865, 0.42660910518053374, 0.51]\n",
      "[0.6666666666666666, 0.6538461538461539, 0.84] [0.7647058823529411, 0.8367346938775511, 0.84] [0.2909090909090909, 0.29310344827586204, 0.3333333333333333] [0.45098039215686275, 0.40855572998430145, 0.5]\n",
      "[0.625, 0.6153846153846154, 0.76] [0.6862745098039216, 0.7755102040816326, 0.74] [0.3, 0.2962962962962963, 0.3392857142857143] [0.4693627450980392, 0.4199372056514914, 0.51]\n",
      "[0.5833333333333334, 0.6153846153846154, 0.76] [0.6274509803921569, 0.7346938775510204, 0.68] [0.30434782608695654, 0.3076923076923077, 0.3584905660377358] [0.47794117647058826, 0.4403453689167975, 0.54]\n",
      "[0.5833333333333334, 0.5384615384615384, 0.68] [0.6274509803921569, 0.7142857142857143, 0.6] [0.30434782608695654, 0.2857142857142857, 0.3617021276595745] [0.47794117647058826, 0.41208791208791207, 0.54]\n",
      "[0.5833333333333334, 0.5384615384615384, 0.52] [0.5490196078431373, 0.6530612244897959, 0.58] [0.3333333333333333, 0.30434782608695654, 0.30952380952380953] [0.5171568627450981, 0.4427001569858713, 0.47000000000000003]\n",
      "[0.5833333333333334, 0.5, 0.48] [0.49019607843137253, 0.5918367346938775, 0.56] [0.358974358974359, 0.30952380952380953, 0.3] [0.5465686274509804, 0.45408163265306123, 0.45999999999999996]\n",
      "[0.4583333333333333, 0.46153846153846156, 0.48] [0.45098039215686275, 0.5306122448979592, 0.46] [0.3235294117647059, 0.3157894736842105, 0.34285714285714286] [0.5036764705882353, 0.46546310832025123, 0.51]\n",
      "[0.375, 0.4230769230769231, 0.44] [0.4117647058823529, 0.4897959183673469, 0.38] [0.3, 0.3142857142857143, 0.36666666666666664] [0.48161764705882354, 0.4666405023547881, 0.53]\n",
      "[0.3333333333333333, 0.4230769230769231, 0.36] [0.39215686274509803, 0.42857142857142855, 0.3] [0.2857142857142857, 0.34375, 0.375] [0.47058823529411764, 0.49725274725274726, 0.5299999999999999]\n",
      "[0.20833333333333334, 0.34615384615384615, 0.32] [0.27450980392156865, 0.32653061224489793, 0.28] [0.2631578947368421, 0.36, 0.36363636363636365] [0.4669117647058823, 0.5098116169544742, 0.52]\n",
      "[0.125, 0.2692307692307692, 0.24] [0.23529411764705882, 0.2857142857142857, 0.22] [0.2, 0.3333333333333333, 0.35294117647058826] [0.44485294117647056, 0.49175824175824173, 0.51]\n",
      "[0.125, 0.23076923076923078, 0.24] [0.19607843137254902, 0.2653061224489796, 0.18] [0.23076923076923078, 0.3157894736842105, 0.4] [0.4644607843137255, 0.48273155416012553, 0.53]\n",
      "[0.041666666666666664, 0.23076923076923078, 0.16] [0.1568627450980392, 0.20408163265306123, 0.16] [0.1111111111111111, 0.375, 0.3333333333333333] [0.44240196078431376, 0.5133437990580848, 0.49999999999999994]\n",
      "[0.0, 0.23076923076923078, 0.12] [0.058823529411764705, 0.16326530612244897, 0.08] [0.0, 0.42857142857142855, 0.42857142857142855] [0.47058823529411764, 0.533751962323391, 0.5200000000000001]\n",
      "[0.0, 0.15384615384615385, 0.04] [0.058823529411764705, 0.08163265306122448, 0.0] [0.0, 0.5, 1.0] [0.47058823529411764, 0.5361067503924647, 0.52]\n"
     ]
    }
   ],
   "source": [
    "recall_list = []\n",
    "FPR_list = []\n",
    "for i in predthreshold:\n",
    "    recalls,FPRs,precisions,aucs = Recall_fpr(i)\n",
    "    recall_list.append(recalls)\n",
    "    FPR_list.append(FPRs)\n",
    "    "
   ]
  },
  {
   "cell_type": "code",
   "execution_count": 108,
   "id": "086d793c",
   "metadata": {},
   "outputs": [],
   "source": [
    "import  pandas\n",
    "datarecall_list =  pandas.DataFrame(recall_list)"
   ]
  },
  {
   "cell_type": "code",
   "execution_count": 109,
   "id": "03229df9",
   "metadata": {},
   "outputs": [
    {
     "data": {
      "text/html": [
       "<div>\n",
       "<style scoped>\n",
       "    .dataframe tbody tr th:only-of-type {\n",
       "        vertical-align: middle;\n",
       "    }\n",
       "\n",
       "    .dataframe tbody tr th {\n",
       "        vertical-align: top;\n",
       "    }\n",
       "\n",
       "    .dataframe thead th {\n",
       "        text-align: right;\n",
       "    }\n",
       "</style>\n",
       "<table border=\"1\" class=\"dataframe\">\n",
       "  <thead>\n",
       "    <tr style=\"text-align: right;\">\n",
       "      <th></th>\n",
       "      <th>0</th>\n",
       "      <th>1</th>\n",
       "      <th>2</th>\n",
       "    </tr>\n",
       "  </thead>\n",
       "  <tbody>\n",
       "    <tr>\n",
       "      <th>0</th>\n",
       "      <td>1.000000</td>\n",
       "      <td>1.000000</td>\n",
       "      <td>1.00</td>\n",
       "    </tr>\n",
       "    <tr>\n",
       "      <th>1</th>\n",
       "      <td>0.875000</td>\n",
       "      <td>0.923077</td>\n",
       "      <td>0.96</td>\n",
       "    </tr>\n",
       "    <tr>\n",
       "      <th>2</th>\n",
       "      <td>0.833333</td>\n",
       "      <td>0.807692</td>\n",
       "      <td>0.92</td>\n",
       "    </tr>\n",
       "    <tr>\n",
       "      <th>3</th>\n",
       "      <td>0.833333</td>\n",
       "      <td>0.769231</td>\n",
       "      <td>0.88</td>\n",
       "    </tr>\n",
       "    <tr>\n",
       "      <th>4</th>\n",
       "      <td>0.708333</td>\n",
       "      <td>0.730769</td>\n",
       "      <td>0.88</td>\n",
       "    </tr>\n",
       "    <tr>\n",
       "      <th>5</th>\n",
       "      <td>0.666667</td>\n",
       "      <td>0.653846</td>\n",
       "      <td>0.84</td>\n",
       "    </tr>\n",
       "    <tr>\n",
       "      <th>6</th>\n",
       "      <td>0.625000</td>\n",
       "      <td>0.615385</td>\n",
       "      <td>0.76</td>\n",
       "    </tr>\n",
       "    <tr>\n",
       "      <th>7</th>\n",
       "      <td>0.583333</td>\n",
       "      <td>0.615385</td>\n",
       "      <td>0.76</td>\n",
       "    </tr>\n",
       "    <tr>\n",
       "      <th>8</th>\n",
       "      <td>0.583333</td>\n",
       "      <td>0.538462</td>\n",
       "      <td>0.68</td>\n",
       "    </tr>\n",
       "    <tr>\n",
       "      <th>9</th>\n",
       "      <td>0.583333</td>\n",
       "      <td>0.538462</td>\n",
       "      <td>0.52</td>\n",
       "    </tr>\n",
       "    <tr>\n",
       "      <th>10</th>\n",
       "      <td>0.583333</td>\n",
       "      <td>0.500000</td>\n",
       "      <td>0.48</td>\n",
       "    </tr>\n",
       "    <tr>\n",
       "      <th>11</th>\n",
       "      <td>0.458333</td>\n",
       "      <td>0.461538</td>\n",
       "      <td>0.48</td>\n",
       "    </tr>\n",
       "    <tr>\n",
       "      <th>12</th>\n",
       "      <td>0.375000</td>\n",
       "      <td>0.423077</td>\n",
       "      <td>0.44</td>\n",
       "    </tr>\n",
       "    <tr>\n",
       "      <th>13</th>\n",
       "      <td>0.333333</td>\n",
       "      <td>0.423077</td>\n",
       "      <td>0.36</td>\n",
       "    </tr>\n",
       "    <tr>\n",
       "      <th>14</th>\n",
       "      <td>0.208333</td>\n",
       "      <td>0.346154</td>\n",
       "      <td>0.32</td>\n",
       "    </tr>\n",
       "    <tr>\n",
       "      <th>15</th>\n",
       "      <td>0.125000</td>\n",
       "      <td>0.269231</td>\n",
       "      <td>0.24</td>\n",
       "    </tr>\n",
       "    <tr>\n",
       "      <th>16</th>\n",
       "      <td>0.125000</td>\n",
       "      <td>0.230769</td>\n",
       "      <td>0.24</td>\n",
       "    </tr>\n",
       "    <tr>\n",
       "      <th>17</th>\n",
       "      <td>0.041667</td>\n",
       "      <td>0.230769</td>\n",
       "      <td>0.16</td>\n",
       "    </tr>\n",
       "    <tr>\n",
       "      <th>18</th>\n",
       "      <td>0.000000</td>\n",
       "      <td>0.230769</td>\n",
       "      <td>0.12</td>\n",
       "    </tr>\n",
       "    <tr>\n",
       "      <th>19</th>\n",
       "      <td>0.000000</td>\n",
       "      <td>0.153846</td>\n",
       "      <td>0.04</td>\n",
       "    </tr>\n",
       "  </tbody>\n",
       "</table>\n",
       "</div>"
      ],
      "text/plain": [
       "           0         1     2\n",
       "0   1.000000  1.000000  1.00\n",
       "1   0.875000  0.923077  0.96\n",
       "2   0.833333  0.807692  0.92\n",
       "3   0.833333  0.769231  0.88\n",
       "4   0.708333  0.730769  0.88\n",
       "5   0.666667  0.653846  0.84\n",
       "6   0.625000  0.615385  0.76\n",
       "7   0.583333  0.615385  0.76\n",
       "8   0.583333  0.538462  0.68\n",
       "9   0.583333  0.538462  0.52\n",
       "10  0.583333  0.500000  0.48\n",
       "11  0.458333  0.461538  0.48\n",
       "12  0.375000  0.423077  0.44\n",
       "13  0.333333  0.423077  0.36\n",
       "14  0.208333  0.346154  0.32\n",
       "15  0.125000  0.269231  0.24\n",
       "16  0.125000  0.230769  0.24\n",
       "17  0.041667  0.230769  0.16\n",
       "18  0.000000  0.230769  0.12\n",
       "19  0.000000  0.153846  0.04"
      ]
     },
     "execution_count": 109,
     "metadata": {},
     "output_type": "execute_result"
    }
   ],
   "source": [
    "datarecall_list"
   ]
  },
  {
   "cell_type": "code",
   "execution_count": null,
   "id": "44253ea5",
   "metadata": {},
   "outputs": [],
   "source": []
  }
 ],
 "metadata": {
  "kernelspec": {
   "display_name": "Python [conda env:pytorch19]",
   "language": "python",
   "name": "conda-env-pytorch19-py"
  },
  "language_info": {
   "codemirror_mode": {
    "name": "ipython",
    "version": 3
   },
   "file_extension": ".py",
   "mimetype": "text/x-python",
   "name": "python",
   "nbconvert_exporter": "python",
   "pygments_lexer": "ipython3",
   "version": "3.8.10"
  }
 },
 "nbformat": 4,
 "nbformat_minor": 5
}
